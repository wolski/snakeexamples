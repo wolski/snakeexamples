{
 "cells": [
  {
   "cell_type": "code",
   "id": "initial_id",
   "metadata": {
    "collapsed": true,
    "ExecuteTime": {
     "end_time": "2025-01-31T15:40:58.825030Z",
     "start_time": "2025-01-31T15:40:58.819197Z"
    }
   },
   "source": [
    "# to test Snakemake I need some input files create a list of files f1 to f10 with the extension .d.zip,\n",
    "# write them into a folder task1\n",
    "\n",
    "\n",
    "import os\n",
    "\n",
    "mdir = \"task1\"\n",
    "os.makedirs(mdir, exist_ok=True)\n",
    "\n",
    "for i in range(1, 11):\n",
    "    with open(f\"{mdir}/f{i}.d.zip\", \"w\") as f:\n",
    "        f.write(f\"File {i}\")\n",
    "\n",
    "\n",
    "mdir = \"task2_raw\"\n",
    "os.makedirs(mdir, exist_ok=True)\n",
    "\n",
    "for i in range(1, 11):\n",
    "    with open(f\"{mdir}/f{i}.raw\", \"w\") as f:\n",
    "        f.write(f\"File {i}\")\n",
    "\n",
    "\n"
   ],
   "outputs": [],
   "execution_count": 7
  },
  {
   "metadata": {},
   "cell_type": "code",
   "outputs": [],
   "execution_count": null,
   "source": "",
   "id": "993a3b9769ce01e1"
  }
 ],
 "metadata": {
  "kernelspec": {
   "display_name": "Python 3",
   "language": "python",
   "name": "python3"
  },
  "language_info": {
   "codemirror_mode": {
    "name": "ipython",
    "version": 2
   },
   "file_extension": ".py",
   "mimetype": "text/x-python",
   "name": "python",
   "nbconvert_exporter": "python",
   "pygments_lexer": "ipython2",
   "version": "2.7.6"
  }
 },
 "nbformat": 4,
 "nbformat_minor": 5
}
